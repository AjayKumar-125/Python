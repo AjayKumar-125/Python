{
 "cells": [
  {
   "cell_type": "code",
   "execution_count": 1,
   "id": "1b90d1b7",
   "metadata": {},
   "outputs": [
    {
     "name": "stdout",
     "output_type": "stream",
     "text": [
      "khursaheed\n"
     ]
    }
   ],
   "source": [
    "print(\"khursaheed\")"
   ]
  },
  {
   "cell_type": "code",
   "execution_count": 2,
   "id": "0192c0a7",
   "metadata": {},
   "outputs": [
    {
     "name": "stdout",
     "output_type": "stream",
     "text": [
      "ajay\n"
     ]
    }
   ],
   "source": [
    "print(\"ajay\")"
   ]
  },
  {
   "cell_type": "markdown",
   "id": "c7c2e4d8",
   "metadata": {},
   "source": [
    "# bacis "
   ]
  },
  {
   "cell_type": "code",
   "execution_count": 3,
   "id": "a6a703ae",
   "metadata": {},
   "outputs": [
    {
     "name": "stdout",
     "output_type": "stream",
     "text": [
      "10\n",
      "<class 'int'>\n"
     ]
    }
   ],
   "source": [
    "a =10\n",
    "print(a)\n",
    "print(type(a))"
   ]
  },
  {
   "cell_type": "code",
   "execution_count": 4,
   "id": "6fa4fd78",
   "metadata": {},
   "outputs": [
    {
     "name": "stdout",
     "output_type": "stream",
     "text": [
      "<class 'str'>\n"
     ]
    }
   ],
   "source": [
    "b=\"khurnkjk\"\n",
    "print(type(b))"
   ]
  },
  {
   "cell_type": "code",
   "execution_count": 5,
   "id": "fa8c8843",
   "metadata": {},
   "outputs": [
    {
     "name": "stdout",
     "output_type": "stream",
     "text": [
      "sajflkaj\n"
     ]
    }
   ],
   "source": [
    "c=\"sajflkaj\"\n",
    "print(c)"
   ]
  },
  {
   "cell_type": "code",
   "execution_count": 6,
   "id": "6a361036",
   "metadata": {},
   "outputs": [
    {
     "name": "stdout",
     "output_type": "stream",
     "text": [
      "khurnkjk 10\n"
     ]
    }
   ],
   "source": [
    "print(b,a)"
   ]
  },
  {
   "cell_type": "code",
   "execution_count": 7,
   "id": "d3340667",
   "metadata": {},
   "outputs": [
    {
     "name": "stdout",
     "output_type": "stream",
     "text": [
      "xyz\n"
     ]
    }
   ],
   "source": [
    "a=\"xyz\"\n",
    "print(a)"
   ]
  },
  {
   "cell_type": "code",
   "execution_count": 8,
   "id": "f7037e83",
   "metadata": {},
   "outputs": [
    {
     "name": "stdout",
     "output_type": "stream",
     "text": [
      "enter the number:33\n",
      "33\n"
     ]
    }
   ],
   "source": [
    "num = input(\"enter the number:\")\n",
    "print(num)"
   ]
  },
  {
   "cell_type": "code",
   "execution_count": 9,
   "id": "4856e610",
   "metadata": {},
   "outputs": [
    {
     "name": "stdout",
     "output_type": "stream",
     "text": [
      "enter the second number:3\n",
      "3\n"
     ]
    }
   ],
   "source": [
    "num1 = input(\"enter the second number:\")\n",
    "print(num1)"
   ]
  },
  {
   "cell_type": "code",
   "execution_count": 10,
   "id": "2b60885d",
   "metadata": {},
   "outputs": [
    {
     "name": "stdout",
     "output_type": "stream",
     "text": [
      "333\n"
     ]
    }
   ],
   "source": [
    "print(num+num1)"
   ]
  },
  {
   "cell_type": "code",
   "execution_count": 12,
   "id": "f19517b1",
   "metadata": {},
   "outputs": [
    {
     "name": "stdout",
     "output_type": "stream",
     "text": [
      "enter the any number:3\n",
      "enter second number: 3\n",
      "6\n"
     ]
    }
   ],
   "source": [
    "nn = int(input(\"enter the any number:\"))\n",
    "mm =int(input(\"enter second number: \"))\n",
    "print(nn+mm)\n",
    "\n"
   ]
  },
  {
   "cell_type": "code",
   "execution_count": 13,
   "id": "ba50348a",
   "metadata": {},
   "outputs": [
    {
     "name": "stdout",
     "output_type": "stream",
     "text": [
      "<class 'int'>\n"
     ]
    }
   ],
   "source": [
    "print(type(nn))"
   ]
  },
  {
   "cell_type": "markdown",
   "id": "dac4c051",
   "metadata": {},
   "source": [
    "# list in python"
   ]
  },
  {
   "cell_type": "code",
   "execution_count": 14,
   "id": "89f5d73c",
   "metadata": {},
   "outputs": [
    {
     "name": "stdout",
     "output_type": "stream",
     "text": [
      "[1, 2, 3, 4, 5]\n"
     ]
    }
   ],
   "source": [
    "l = [1,2,3,4,5]\n",
    "print(l)"
   ]
  },
  {
   "cell_type": "code",
   "execution_count": 15,
   "id": "3dee4c82",
   "metadata": {},
   "outputs": [
    {
     "name": "stdout",
     "output_type": "stream",
     "text": [
      "<class 'list'>\n",
      "1\n",
      "5\n"
     ]
    }
   ],
   "source": [
    "print(type(l))\n",
    "print(l[0])\n",
    "print(l[-1])"
   ]
  },
  {
   "cell_type": "code",
   "execution_count": 16,
   "id": "44c89d43",
   "metadata": {},
   "outputs": [
    {
     "data": {
      "text/plain": [
       "[1, 2, 3, 4, 5, 6]"
      ]
     },
     "execution_count": 16,
     "metadata": {},
     "output_type": "execute_result"
    }
   ],
   "source": [
    "l.append(6)\n",
    "l\n"
   ]
  },
  {
   "cell_type": "code",
   "execution_count": 18,
   "id": "2b97b7bf",
   "metadata": {},
   "outputs": [
    {
     "data": {
      "text/plain": [
       "[1, 2, 5, 3, 4, 5, 6, 5]"
      ]
     },
     "execution_count": 18,
     "metadata": {},
     "output_type": "execute_result"
    }
   ],
   "source": [
    "l.insert(2,5)\n",
    "l"
   ]
  },
  {
   "cell_type": "code",
   "execution_count": 20,
   "id": "7b015046",
   "metadata": {},
   "outputs": [
    {
     "data": {
      "text/plain": [
       "[1, 2, 5, 3, 4, 5, 6]"
      ]
     },
     "execution_count": 20,
     "metadata": {},
     "output_type": "execute_result"
    }
   ],
   "source": [
    "l.pop()\n",
    "l"
   ]
  },
  {
   "cell_type": "code",
   "execution_count": 23,
   "id": "51817b53",
   "metadata": {},
   "outputs": [
    {
     "data": {
      "text/plain": [
       "[1, 3, 4, 6]"
      ]
     },
     "execution_count": 23,
     "metadata": {},
     "output_type": "execute_result"
    }
   ],
   "source": [
    "l.remove(5)\n",
    "l"
   ]
  },
  {
   "cell_type": "code",
   "execution_count": null,
   "id": "1d79fd56",
   "metadata": {},
   "outputs": [],
   "source": []
  },
  {
   "cell_type": "code",
   "execution_count": null,
   "id": "07a1f69e",
   "metadata": {},
   "outputs": [],
   "source": []
  }
 ],
 "metadata": {
  "kernelspec": {
   "display_name": "Python 3 (ipykernel)",
   "language": "python",
   "name": "python3"
  },
  "language_info": {
   "codemirror_mode": {
    "name": "ipython",
    "version": 3
   },
   "file_extension": ".py",
   "mimetype": "text/x-python",
   "name": "python",
   "nbconvert_exporter": "python",
   "pygments_lexer": "ipython3",
   "version": "3.11.4"
  }
 },
 "nbformat": 4,
 "nbformat_minor": 5
}
