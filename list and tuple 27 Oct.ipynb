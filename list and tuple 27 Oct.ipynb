{
 "cells": [
  {
   "cell_type": "markdown",
   "id": "6e3cf786",
   "metadata": {},
   "source": [
    "# append(x): Adds an item (element x) to the end of the list.\n"
   ]
  },
  {
   "cell_type": "code",
   "execution_count": 1,
   "id": "bff1452f",
   "metadata": {},
   "outputs": [
    {
     "name": "stdout",
     "output_type": "stream",
     "text": [
      "[1, 2, 3, 4]\n"
     ]
    }
   ],
   "source": [
    "my_list = [1, 2, 3]\n",
    "my_list.append(4)\n",
    "print(my_list)  \n"
   ]
  },
  {
   "cell_type": "markdown",
   "id": "4f51edc3",
   "metadata": {},
   "source": [
    "# extend(iterable): Extends the list by appending elements from an iterable (e.g., list, tuple, string) to the end."
   ]
  },
  {
   "cell_type": "code",
   "execution_count": 2,
   "id": "194dd174",
   "metadata": {},
   "outputs": [
    {
     "name": "stdout",
     "output_type": "stream",
     "text": [
      "[1, 2, 3, 4, 5]\n"
     ]
    }
   ],
   "source": [
    "my_list = [1, 2, 3]\n",
    "my_list.extend([4, 5])\n",
    "print(my_list) \n"
   ]
  },
  {
   "cell_type": "markdown",
   "id": "80058bf1",
   "metadata": {},
   "source": [
    "# insert(i, x): Inserts an item x at a specified position i in the list."
   ]
  },
  {
   "cell_type": "code",
   "execution_count": 3,
   "id": "e6f2192d",
   "metadata": {},
   "outputs": [
    {
     "name": "stdout",
     "output_type": "stream",
     "text": [
      "[1, 5, 2, 3]\n"
     ]
    }
   ],
   "source": [
    "my_list = [1, 2, 3]\n",
    "my_list.insert(1, 5)\n",
    "print(my_list)  # Output: [1, 5, 2, 3]\n"
   ]
  },
  {
   "cell_type": "markdown",
   "id": "33fe5d17",
   "metadata": {},
   "source": [
    "# remove(x): Removes the first occurrence of item x from the list. Raises a ValueError if x is not found."
   ]
  },
  {
   "cell_type": "code",
   "execution_count": 4,
   "id": "ff578a2b",
   "metadata": {},
   "outputs": [
    {
     "name": "stdout",
     "output_type": "stream",
     "text": [
      "[1, 2, 4]\n"
     ]
    }
   ],
   "source": [
    "my_list = [1, 2, 3, 4]\n",
    "my_list.remove(3)\n",
    "print(my_list)  # Output: [1, 2, 4]\n"
   ]
  },
  {
   "cell_type": "markdown",
   "id": "776a0356",
   "metadata": {},
   "source": [
    "# pop([i]): Removes the item at the specified position i and returns it. If i is not provided, pop() removes and returns the last item in the list."
   ]
  },
  {
   "cell_type": "code",
   "execution_count": 5,
   "id": "12b41ce7",
   "metadata": {},
   "outputs": [
    {
     "name": "stdout",
     "output_type": "stream",
     "text": [
      "2\n",
      "[1, 3, 4]\n"
     ]
    }
   ],
   "source": [
    "my_list = [1, 2, 3, 4]\n",
    "popped_item = my_list.pop(1)\n",
    "print(popped_item)  # Output: 2\n",
    "print(my_list)       # Output: [1, 3, 4]\n"
   ]
  },
  {
   "cell_type": "markdown",
   "id": "21d398c4",
   "metadata": {},
   "source": [
    "# index(x): Returns the index of the first occurrence of item x in the list. Raises a ValueError if x is not found."
   ]
  },
  {
   "cell_type": "code",
   "execution_count": null,
   "id": "14ea5347",
   "metadata": {},
   "outputs": [],
   "source": [
    "my_list = [1, 2, 3, 4, 2]\n",
    "index = my_list.index(2)\n",
    "print(index)  # Output: 1\n"
   ]
  },
  {
   "cell_type": "markdown",
   "id": "227ff620",
   "metadata": {},
   "source": [
    "# count(x): Returns the number of occurrences of item x in the list."
   ]
  },
  {
   "cell_type": "code",
   "execution_count": null,
   "id": "987360e9",
   "metadata": {},
   "outputs": [],
   "source": [
    "my_list = [1, 2, 3, 4, 2]\n",
    "count = my_list.count(2)\n",
    "print(count)  # Output: 2\n"
   ]
  },
  {
   "cell_type": "markdown",
   "id": "b4177646",
   "metadata": {},
   "source": [
    "# sort(): Sorts the items of the list in ascending order."
   ]
  },
  {
   "cell_type": "code",
   "execution_count": 6,
   "id": "606d4149",
   "metadata": {},
   "outputs": [
    {
     "name": "stdout",
     "output_type": "stream",
     "text": [
      "[1, 1, 2, 3, 3, 4, 5, 5, 5, 6, 9]\n"
     ]
    }
   ],
   "source": [
    "my_list = [3, 1, 4, 1, 5, 9, 2, 6, 5, 3, 5]\n",
    "my_list.sort()\n",
    "print(my_list)  # Output: [1, 1, 2, 3, 3, 4, 5, 5, 5, 6, 9]\n"
   ]
  },
  {
   "cell_type": "markdown",
   "id": "c702d607",
   "metadata": {},
   "source": [
    "# reverse(): Reverses the elements of the list in place."
   ]
  },
  {
   "cell_type": "code",
   "execution_count": 7,
   "id": "8d21137c",
   "metadata": {},
   "outputs": [
    {
     "name": "stdout",
     "output_type": "stream",
     "text": [
      "[5, 4, 3, 2, 1]\n"
     ]
    }
   ],
   "source": [
    "my_list = [1, 2, 3, 4, 5]\n",
    "my_list.reverse()\n",
    "print(my_list)  # Output: [5, 4, 3, 2, 1]\n"
   ]
  },
  {
   "cell_type": "markdown",
   "id": "198bbb96",
   "metadata": {},
   "source": [
    "# reverse(): Reverses the elements of the list in place"
   ]
  },
  {
   "cell_type": "code",
   "execution_count": 8,
   "id": "3770a52b",
   "metadata": {},
   "outputs": [
    {
     "name": "stdout",
     "output_type": "stream",
     "text": [
      "[5, 4, 3, 2, 1]\n"
     ]
    }
   ],
   "source": [
    "my_list = [1, 2, 3, 4, 5]\n",
    "my_list.reverse()\n",
    "print(my_list)  # Output: [5, 4, 3, 2, 1]\n"
   ]
  },
  {
   "cell_type": "markdown",
   "id": "f8d1170f",
   "metadata": {},
   "source": [
    "# copy(): Returns a shallow copy of the list."
   ]
  },
  {
   "cell_type": "code",
   "execution_count": 10,
   "id": "770aef59",
   "metadata": {},
   "outputs": [
    {
     "data": {
      "text/plain": [
       "[1, 2, 3]"
      ]
     },
     "execution_count": 10,
     "metadata": {},
     "output_type": "execute_result"
    }
   ],
   "source": [
    "my_list = [1, 2, 3]\n",
    "new_list = my_list.copy()\n",
    "new_list"
   ]
  },
  {
   "cell_type": "code",
   "execution_count": null,
   "id": "be7d3440",
   "metadata": {},
   "outputs": [],
   "source": []
  },
  {
   "cell_type": "markdown",
   "id": "4c0c389f",
   "metadata": {},
   "source": [
    "# delete the data index wise"
   ]
  },
  {
   "cell_type": "code",
   "execution_count": 4,
   "id": "403358eb",
   "metadata": {},
   "outputs": [
    {
     "data": {
      "text/plain": [
       "[2, 4, 6, 2]"
      ]
     },
     "execution_count": 4,
     "metadata": {},
     "output_type": "execute_result"
    }
   ],
   "source": [
    "del(l[2])\n",
    "l"
   ]
  },
  {
   "cell_type": "markdown",
   "id": "1e53f6c5",
   "metadata": {},
   "source": [
    "# slice function"
   ]
  },
  {
   "cell_type": "code",
   "execution_count": 5,
   "id": "299d371b",
   "metadata": {},
   "outputs": [
    {
     "data": {
      "text/plain": [
       "['ajay', 'ahmed', 3.43, 2, True]"
      ]
     },
     "execution_count": 5,
     "metadata": {},
     "output_type": "execute_result"
    }
   ],
   "source": [
    "lis = [\"ajay\",\"ahmed\",3.43,2,True]\n",
    "lis"
   ]
  },
  {
   "cell_type": "code",
   "execution_count": 8,
   "id": "9f13e31c",
   "metadata": {},
   "outputs": [
    {
     "name": "stdout",
     "output_type": "stream",
     "text": [
      "['ahmed', 3.43, 2]\n"
     ]
    }
   ],
   "source": [
    "print(lis[1:4])"
   ]
  },
  {
   "cell_type": "code",
   "execution_count": 9,
   "id": "4f419feb",
   "metadata": {},
   "outputs": [
    {
     "name": "stdout",
     "output_type": "stream",
     "text": [
      "['ajay', 'ahmed', 3.43, 2, True]\n"
     ]
    }
   ],
   "source": [
    "print(lis[0:])"
   ]
  },
  {
   "cell_type": "code",
   "execution_count": 10,
   "id": "a77390f8",
   "metadata": {},
   "outputs": [
    {
     "name": "stdout",
     "output_type": "stream",
     "text": [
      "['ajay', 'ahmed', 3.43]\n"
     ]
    }
   ],
   "source": [
    "print(lis[:3])"
   ]
  },
  {
   "cell_type": "code",
   "execution_count": 13,
   "id": "797369ef",
   "metadata": {},
   "outputs": [
    {
     "name": "stdout",
     "output_type": "stream",
     "text": [
      "[3.43, 2]\n"
     ]
    }
   ],
   "source": [
    "print(lis[-3:-1])"
   ]
  },
  {
   "cell_type": "code",
   "execution_count": 18,
   "id": "c96e0ddf",
   "metadata": {},
   "outputs": [
    {
     "data": {
      "text/plain": [
       "['babar', 'ahmed', 'babar', 2, True]"
      ]
     },
     "execution_count": 18,
     "metadata": {},
     "output_type": "execute_result"
    }
   ],
   "source": [
    "lis[0]=\"babar\"\n",
    "lis"
   ]
  },
  {
   "cell_type": "markdown",
   "id": "e40f62af",
   "metadata": {},
   "source": [
    "# unpacked the list "
   ]
  },
  {
   "cell_type": "code",
   "execution_count": 22,
   "id": "cd6a59b5",
   "metadata": {},
   "outputs": [
    {
     "data": {
      "text/plain": [
       "'apple'"
      ]
     },
     "execution_count": 22,
     "metadata": {},
     "output_type": "execute_result"
    }
   ],
   "source": [
    "fruit = [\"apple\",\"banana\",\"mango\"]\n",
    "fruit\n",
    "\n",
    "x,y,z = fruit\n",
    "x"
   ]
  },
  {
   "cell_type": "markdown",
   "id": "8158c1b0",
   "metadata": {},
   "source": [
    "# tuple "
   ]
  },
  {
   "cell_type": "code",
   "execution_count": 24,
   "id": "16e78242",
   "metadata": {},
   "outputs": [
    {
     "data": {
      "text/plain": [
       "(1, 3, 35, 3)"
      ]
     },
     "execution_count": 24,
     "metadata": {},
     "output_type": "execute_result"
    }
   ],
   "source": [
    "tup =(1,3,35,3)\n",
    "tup"
   ]
  },
  {
   "cell_type": "code",
   "execution_count": 25,
   "id": "0041bea8",
   "metadata": {},
   "outputs": [
    {
     "data": {
      "text/plain": [
       "tuple"
      ]
     },
     "execution_count": 25,
     "metadata": {},
     "output_type": "execute_result"
    }
   ],
   "source": [
    "type(tup)"
   ]
  },
  {
   "cell_type": "code",
   "execution_count": 26,
   "id": "47c3eac0",
   "metadata": {},
   "outputs": [
    {
     "data": {
      "text/plain": [
       "(True, 'ava', 3, 4.4)"
      ]
     },
     "execution_count": 26,
     "metadata": {},
     "output_type": "execute_result"
    }
   ],
   "source": [
    "tup1 = (True,\"ava\",3,4.4)\n",
    "tup1"
   ]
  },
  {
   "cell_type": "code",
   "execution_count": 27,
   "id": "b4a85444",
   "metadata": {},
   "outputs": [
    {
     "data": {
      "text/plain": [
       "(5, 43, 7, 4)"
      ]
     },
     "execution_count": 27,
     "metadata": {},
     "output_type": "execute_result"
    }
   ],
   "source": [
    "tup = (5,43,7,4)\n",
    "tup"
   ]
  },
  {
   "cell_type": "code",
   "execution_count": 37,
   "id": "f06fff71",
   "metadata": {},
   "outputs": [],
   "source": [
    "# tup[0]=\"ahmed\"\n",
    "# tup"
   ]
  },
  {
   "cell_type": "code",
   "execution_count": null,
   "id": "c1ed1f66",
   "metadata": {},
   "outputs": [],
   "source": []
  },
  {
   "cell_type": "markdown",
   "id": "14b8957e",
   "metadata": {},
   "source": [
    "# tuple's functions ,tuple conversion into list and update and vice versa,original and copy of tuples?\n"
   ]
  },
  {
   "cell_type": "markdown",
   "id": "0770a65e",
   "metadata": {},
   "source": [
    "# Update the tuple (Note: Tuples are immutable, so you can't directly update them\n"
   ]
  },
  {
   "cell_type": "markdown",
   "id": "05cb7224",
   "metadata": {},
   "source": [
    "# Convert tuple to list, update, and convert back to tuple"
   ]
  },
  {
   "cell_type": "markdown",
   "id": "fba4fe5f",
   "metadata": {},
   "source": [
    " # Convert tuple to list\n",
    " "
   ]
  },
  {
   "cell_type": "code",
   "execution_count": 8,
   "id": "8b519659",
   "metadata": {},
   "outputs": [
    {
     "data": {
      "text/plain": [
       "list"
      ]
     },
     "execution_count": 8,
     "metadata": {},
     "output_type": "execute_result"
    }
   ],
   "source": [
    "tup=(1,2,3,4)\n",
    "lis_data=list(tup)\n",
    "lis_data\n",
    "type(lis_data)"
   ]
  },
  {
   "cell_type": "markdown",
   "id": "4e0b91a9",
   "metadata": {},
   "source": [
    "# Update the list"
   ]
  },
  {
   "cell_type": "code",
   "execution_count": 9,
   "id": "81bfb80d",
   "metadata": {},
   "outputs": [
    {
     "data": {
      "text/plain": [
       "[1, 2, 3, 4, 5]"
      ]
     },
     "execution_count": 9,
     "metadata": {},
     "output_type": "execute_result"
    }
   ],
   "source": [
    "lis_data.append(5)\n",
    "lis_data"
   ]
  },
  {
   "cell_type": "code",
   "execution_count": 11,
   "id": "16cc53a2",
   "metadata": {},
   "outputs": [
    {
     "data": {
      "text/plain": [
       "[1, 2, 6, 4, 5]"
      ]
     },
     "execution_count": 11,
     "metadata": {},
     "output_type": "execute_result"
    }
   ],
   "source": [
    "lis_data[2]=6\n",
    "lis_data"
   ]
  },
  {
   "cell_type": "markdown",
   "id": "caba1163",
   "metadata": {},
   "source": [
    "# Convert the list back to tuple"
   ]
  },
  {
   "cell_type": "code",
   "execution_count": 14,
   "id": "3fc2aaab",
   "metadata": {},
   "outputs": [
    {
     "data": {
      "text/plain": [
       "(1, 2, 6, 4, 5)"
      ]
     },
     "execution_count": 14,
     "metadata": {},
     "output_type": "execute_result"
    }
   ],
   "source": [
    "tuple_data=tuple(lis_data)\n",
    "tuple_data"
   ]
  },
  {
   "cell_type": "markdown",
   "id": "8ffe0caa",
   "metadata": {},
   "source": [
    "# tuples are immutable, meaning their elements cannot be changed or modified after creation. If you need to modify the data, it's often easier to work with lists and then convert them back to tuples if necessary."
   ]
  },
  {
   "cell_type": "markdown",
   "id": "9c6a4138",
   "metadata": {},
   "source": [
    "# if we change the original list then its copy will also be changed automatically."
   ]
  },
  {
   "cell_type": "code",
   "execution_count": 3,
   "id": "97649b1e",
   "metadata": {},
   "outputs": [
    {
     "data": {
      "text/plain": [
       "[1, 2, 3, 4, 7]"
      ]
     },
     "execution_count": 3,
     "metadata": {},
     "output_type": "execute_result"
    }
   ],
   "source": [
    "lst=[1,2,3,4]\n",
    "lst.append(7)\n",
    "list_Copy=lst.copy()\n",
    "\n",
    "lst"
   ]
  },
  {
   "cell_type": "code",
   "execution_count": 4,
   "id": "d869bcae",
   "metadata": {},
   "outputs": [
    {
     "data": {
      "text/plain": [
       "[1, 2, 3, 4, 7]"
      ]
     },
     "execution_count": 4,
     "metadata": {},
     "output_type": "execute_result"
    }
   ],
   "source": [
    "list_Copy"
   ]
  },
  {
   "cell_type": "code",
   "execution_count": null,
   "id": "de6ff2c2",
   "metadata": {},
   "outputs": [],
   "source": []
  }
 ],
 "metadata": {
  "kernelspec": {
   "display_name": "Python 3 (ipykernel)",
   "language": "python",
   "name": "python3"
  },
  "language_info": {
   "codemirror_mode": {
    "name": "ipython",
    "version": 3
   },
   "file_extension": ".py",
   "mimetype": "text/x-python",
   "name": "python",
   "nbconvert_exporter": "python",
   "pygments_lexer": "ipython3",
   "version": "3.11.4"
  }
 },
 "nbformat": 4,
 "nbformat_minor": 5
}
